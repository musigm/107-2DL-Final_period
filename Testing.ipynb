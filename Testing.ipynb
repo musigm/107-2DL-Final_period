{
 "cells": [
  {
   "cell_type": "code",
   "execution_count": null,
   "metadata": {},
   "outputs": [],
   "source": [
    "from __future__ import print_function\n",
    "import os\n",
    "import warnings\n",
    "warnings.filterwarnings('ignore')\n",
    "import torch\n",
    "import pickle\n",
    "import argparse,pdb\n",
    "import numpy as np\n",
    "from m2det import build_net\n",
    "from utils.timer import Timer\n",
    "import torch.backends.cudnn as cudnn\n",
    "from layers.functions import Detect,PriorBox\n",
    "from data import BaseTransform\n",
    "from configs.CC import Config\n",
    "from tqdm import tqdm\n",
    "from utils.core import *"
   ]
  },
  {
   "cell_type": "code",
   "execution_count": 3,
   "metadata": {},
   "outputs": [
    {
     "name": "stdout",
     "output_type": "stream",
     "text": [
      "\u001b[1m\u001b[33m----------------------------------------------------------------------\n",
      "|                       M2Det Evaluation Program                     |\n",
      "----------------------------------------------------------------------\u001b[0m\n",
      "The Anchor info: \n",
      "{'feature_maps': [64, 32, 16, 8, 4, 2], 'min_dim': 512, 'steps': [8, 16, 32, 64, 128, 256], 'min_sizes': [30.72, 76.8, 168.96, 261.12, 353.28, 445.44], 'max_sizes': [76.8, 168.96, 261.12, 353.28, 445.44, 537.6], 'aspect_ratios': [[2, 3], [2, 3], [2, 3], [2, 3], [2, 3], [2, 3]], 'variance': [0.1, 0.2], 'clip': True}\n",
      "\u001b[1m\u001b[33m===> Constructing M2Det model\u001b[0m\n",
      "Loading resume network...\n"
     ]
    },
    {
     "name": "stderr",
     "output_type": "stream",
     "text": [
      "\n",
      "  0%|          | 0/2248 [00:00<?, ?it/s]\u001b[A"
     ]
    },
    {
     "name": "stdout",
     "output_type": "stream",
     "text": [
      "\u001b[1m\u001b[33m===> Finished constructing and loading model\u001b[0m\n",
      "\u001b[1m\u001b[33m=> Total 2248 images to test.\u001b[0m\n",
      "\u001b[1m\u001b[33mBegin to evaluate\u001b[0m\n"
     ]
    },
    {
     "ename": "AttributeError",
     "evalue": "'NoneType' object has no attribute 'shape'",
     "output_type": "error",
     "traceback": [
      "\u001b[0;31m---------------------------------------------------------------------------\u001b[0m",
      "\u001b[0;31mAttributeError\u001b[0m                            Traceback (most recent call last)",
      "\u001b[0;32m<ipython-input-3-ae15b4354655>\u001b[0m in \u001b[0;36m<module>\u001b[0;34m\u001b[0m\n\u001b[1;32m     97\u001b[0m          \u001b[0mtransform\u001b[0m \u001b[0;34m=\u001b[0m \u001b[0m_preprocess\u001b[0m\u001b[0;34m,\u001b[0m\u001b[0;34m\u001b[0m\u001b[0;34m\u001b[0m\u001b[0m\n\u001b[1;32m     98\u001b[0m          \u001b[0mmax_per_image\u001b[0m \u001b[0;34m=\u001b[0m \u001b[0mcfg\u001b[0m\u001b[0;34m.\u001b[0m\u001b[0mtest_cfg\u001b[0m\u001b[0;34m.\u001b[0m\u001b[0mtopk\u001b[0m\u001b[0;34m,\u001b[0m\u001b[0;34m\u001b[0m\u001b[0;34m\u001b[0m\u001b[0m\n\u001b[0;32m---> 99\u001b[0;31m          thresh = 0.6)\n\u001b[0m",
      "\u001b[0;32m<ipython-input-3-ae15b4354655>\u001b[0m in \u001b[0;36mtest_net\u001b[0;34m(save_folder, net, detector, cuda, testset, transform, max_per_image, thresh)\u001b[0m\n\u001b[1;32m     55\u001b[0m         \u001b[0;31m# step1: CNN detection\u001b[0m\u001b[0;34m\u001b[0m\u001b[0;34m\u001b[0m\u001b[0;34m\u001b[0m\u001b[0m\n\u001b[1;32m     56\u001b[0m         \u001b[0m_t\u001b[0m\u001b[0;34m[\u001b[0m\u001b[0;34m'im_detect'\u001b[0m\u001b[0;34m]\u001b[0m\u001b[0;34m.\u001b[0m\u001b[0mtic\u001b[0m\u001b[0;34m(\u001b[0m\u001b[0;34m)\u001b[0m\u001b[0;34m\u001b[0m\u001b[0;34m\u001b[0m\u001b[0m\n\u001b[0;32m---> 57\u001b[0;31m         \u001b[0mboxes\u001b[0m\u001b[0;34m,\u001b[0m \u001b[0mscores\u001b[0m \u001b[0;34m=\u001b[0m \u001b[0mimage_forward\u001b[0m\u001b[0;34m(\u001b[0m\u001b[0mimg\u001b[0m\u001b[0;34m,\u001b[0m \u001b[0mnet\u001b[0m\u001b[0;34m,\u001b[0m \u001b[0mcuda\u001b[0m\u001b[0;34m,\u001b[0m \u001b[0mpriors\u001b[0m\u001b[0;34m,\u001b[0m \u001b[0mdetector\u001b[0m\u001b[0;34m,\u001b[0m \u001b[0mtransform\u001b[0m\u001b[0;34m)\u001b[0m\u001b[0;34m\u001b[0m\u001b[0;34m\u001b[0m\u001b[0m\n\u001b[0m\u001b[1;32m     58\u001b[0m         \u001b[0mdetect_time\u001b[0m \u001b[0;34m=\u001b[0m \u001b[0m_t\u001b[0m\u001b[0;34m[\u001b[0m\u001b[0;34m'im_detect'\u001b[0m\u001b[0;34m]\u001b[0m\u001b[0;34m.\u001b[0m\u001b[0mtoc\u001b[0m\u001b[0;34m(\u001b[0m\u001b[0;34m)\u001b[0m\u001b[0;34m\u001b[0m\u001b[0;34m\u001b[0m\u001b[0m\n\u001b[1;32m     59\u001b[0m         \u001b[0;31m# step2: Post-process: NMS\u001b[0m\u001b[0;34m\u001b[0m\u001b[0;34m\u001b[0m\u001b[0;34m\u001b[0m\u001b[0m\n",
      "\u001b[0;32m~/M2Det/utils/core.py\u001b[0m in \u001b[0;36mimage_forward\u001b[0;34m(img, net, cuda, priors, detector, transform)\u001b[0m\n\u001b[1;32m    141\u001b[0m \u001b[0;34m\u001b[0m\u001b[0m\n\u001b[1;32m    142\u001b[0m \u001b[0;32mdef\u001b[0m \u001b[0mimage_forward\u001b[0m\u001b[0;34m(\u001b[0m\u001b[0mimg\u001b[0m\u001b[0;34m,\u001b[0m \u001b[0mnet\u001b[0m\u001b[0;34m,\u001b[0m \u001b[0mcuda\u001b[0m\u001b[0;34m,\u001b[0m \u001b[0mpriors\u001b[0m\u001b[0;34m,\u001b[0m \u001b[0mdetector\u001b[0m\u001b[0;34m,\u001b[0m \u001b[0mtransform\u001b[0m\u001b[0;34m)\u001b[0m\u001b[0;34m:\u001b[0m\u001b[0;34m\u001b[0m\u001b[0;34m\u001b[0m\u001b[0m\n\u001b[0;32m--> 143\u001b[0;31m     \u001b[0mw\u001b[0m\u001b[0;34m,\u001b[0m\u001b[0mh\u001b[0m \u001b[0;34m=\u001b[0m \u001b[0mimg\u001b[0m\u001b[0;34m.\u001b[0m\u001b[0mshape\u001b[0m\u001b[0;34m[\u001b[0m\u001b[0;36m1\u001b[0m\u001b[0;34m]\u001b[0m\u001b[0;34m,\u001b[0m\u001b[0mimg\u001b[0m\u001b[0;34m.\u001b[0m\u001b[0mshape\u001b[0m\u001b[0;34m[\u001b[0m\u001b[0;36m0\u001b[0m\u001b[0;34m]\u001b[0m\u001b[0;34m\u001b[0m\u001b[0;34m\u001b[0m\u001b[0m\n\u001b[0m\u001b[1;32m    144\u001b[0m     \u001b[0mscale\u001b[0m \u001b[0;34m=\u001b[0m \u001b[0mtorch\u001b[0m\u001b[0;34m.\u001b[0m\u001b[0mTensor\u001b[0m\u001b[0;34m(\u001b[0m\u001b[0;34m[\u001b[0m\u001b[0mw\u001b[0m\u001b[0;34m,\u001b[0m\u001b[0mh\u001b[0m\u001b[0;34m,\u001b[0m\u001b[0mw\u001b[0m\u001b[0;34m,\u001b[0m\u001b[0mh\u001b[0m\u001b[0;34m]\u001b[0m\u001b[0;34m)\u001b[0m\u001b[0;34m\u001b[0m\u001b[0;34m\u001b[0m\u001b[0m\n\u001b[1;32m    145\u001b[0m     \u001b[0;32mwith\u001b[0m \u001b[0mtorch\u001b[0m\u001b[0;34m.\u001b[0m\u001b[0mno_grad\u001b[0m\u001b[0;34m(\u001b[0m\u001b[0;34m)\u001b[0m\u001b[0;34m:\u001b[0m\u001b[0;34m\u001b[0m\u001b[0;34m\u001b[0m\u001b[0m\n",
      "\u001b[0;31mAttributeError\u001b[0m: 'NoneType' object has no attribute 'shape'"
     ]
    }
   ],
   "source": [
    "config = 'configs/m2det512_vgg.py'\n",
    "dataset_prefix = 'VOC'\n",
    "trained_model = 'weights/Final_M2Det_VOC_size512_netvgg16.pth'\n",
    "\n",
    "test = False\n",
    "\n",
    "print_info('----------------------------------------------------------------------\\n'\n",
    "           '|                       M2Det Evaluation Program                     |\\n'\n",
    "           '----------------------------------------------------------------------', ['yellow','bold'])\n",
    "global cfg\n",
    "cfg = Config.fromfile(config)\n",
    "if not os.path.exists(cfg.test_cfg.save_folder):\n",
    "    os.mkdir(cfg.test_cfg.save_folder)\n",
    "anchor_config = anchors(cfg)\n",
    "print_info('The Anchor info: \\n{}'.format(anchor_config))\n",
    "priorbox = PriorBox(anchor_config)\n",
    "with torch.no_grad():\n",
    "    priors = priorbox.forward()\n",
    "    if cfg.test_cfg.cuda:\n",
    "        priors = priors.cuda()\n",
    "\n",
    "def test_net(save_folder, net, detector, cuda, testset, transform, max_per_image=300, thresh=0.005):\n",
    "    if not os.path.exists(save_folder):\n",
    "        os.mkdir(save_folder)\n",
    "\n",
    "    num_images = len(testset)\n",
    "    print_info('=> Total {} images to test.'.format(num_images),['yellow','bold'])\n",
    "    num_classes = cfg.model.m2det_config.num_classes\n",
    "    all_boxes = [[[] for _ in range(num_images)] for _ in range(num_classes)]\n",
    "\n",
    "    _t = {'im_detect': Timer(), 'misc': Timer()}\n",
    "    det_file = os.path.join(save_folder, 'detections.pkl')\n",
    "    tot_detect_time, tot_nms_time = 0, 0\n",
    "    print_info('Begin to evaluate',['yellow','bold'])\n",
    "    for i in tqdm(range(num_images)):\n",
    "        img = testset.pull_image(i)\n",
    "        # step1: CNN detection\n",
    "        _t['im_detect'].tic()\n",
    "        boxes, scores = image_forward(img, net, cuda, priors, detector, transform)\n",
    "        detect_time = _t['im_detect'].toc()\n",
    "        # step2: Post-process: NMS\n",
    "        _t['misc'].tic()\n",
    "        nms_process(num_classes, i, scores, boxes, cfg, thresh, all_boxes, max_per_image)\n",
    "        nms_time = _t['misc'].toc()\n",
    "\n",
    "        tot_detect_time += detect_time if i > 0 else 0\n",
    "        tot_nms_time += nms_time if i > 0 else 0\n",
    "\n",
    "    with open(det_file, 'wb') as f:\n",
    "        pickle.dump(all_boxes, f, pickle.HIGHEST_PROTOCOL)\n",
    "    print_info('===> Evaluating detections',['yellow','bold'])\n",
    "    testset.evaluate_detections2(all_boxes, save_folder)\n",
    "    print_info('Detect time per image: {:.3f}s'.format(tot_detect_time / (num_images-1)))\n",
    "    print_info('Nms time per image: {:.3f}s'.format(tot_nms_time / (num_images - 1)))\n",
    "    print_info('Total time per image: {:.3f}s'.format((tot_detect_time + tot_nms_time) / (num_images - 1)))\n",
    "    print_info('FPS: {:.3f} fps'.format((num_images - 1) / (tot_detect_time + tot_nms_time)))\n",
    "\n",
    "net = build_net('test',\n",
    "                size = cfg.model.input_size,\n",
    "                config = cfg.model.m2det_config)\n",
    "init_net(net, cfg, trained_model)\n",
    "print_info('===> Finished constructing and loading model',['yellow','bold'])\n",
    "net.eval()\n",
    "_set = 'eval_sets' if not test else 'test_sets'\n",
    "testset = get_dataloader(cfg, dataset_prefix, _set)\n",
    "if cfg.test_cfg.cuda:\n",
    "    net = net.cuda()\n",
    "    cudnn.benchmark = True\n",
    "else:\n",
    "    net = net.cpu()\n",
    "detector = Detect(cfg.model.m2det_config.num_classes, cfg.loss.bkg_label, anchor_config)\n",
    "save_folder = os.path.join(cfg.test_cfg.save_folder, dataset_prefix)\n",
    "_preprocess = BaseTransform(cfg.model.input_size, cfg.model.rgb_means, (2, 0, 1))\n",
    "test_net(save_folder, \n",
    "         net, \n",
    "         detector, \n",
    "         cfg.test_cfg.cuda, \n",
    "         testset, \n",
    "         transform = _preprocess, \n",
    "         max_per_image = cfg.test_cfg.topk, \n",
    "         thresh = 0.6)\n"
   ]
  }
 ],
 "metadata": {
  "kernelspec": {
   "display_name": "Python 3",
   "language": "python",
   "name": "python3"
  },
  "language_info": {
   "codemirror_mode": {
    "name": "ipython",
    "version": 3
   },
   "file_extension": ".py",
   "mimetype": "text/x-python",
   "name": "python",
   "nbconvert_exporter": "python",
   "pygments_lexer": "ipython3",
   "version": "3.6.7"
  }
 },
 "nbformat": 4,
 "nbformat_minor": 2
}
