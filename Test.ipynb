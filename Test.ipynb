{
 "cells": [
  {
   "cell_type": "code",
   "execution_count": 1,
   "metadata": {},
   "outputs": [],
   "source": [
    "from __future__ import print_function\n",
    "import torch\n",
    "import warnings\n",
    "warnings.filterwarnings('ignore')\n",
    "import time\n",
    "import torch\n",
    "import pickle\n",
    "import argparse\n",
    "import easydict\n",
    "import numpy as np\n",
    "from m2det import build_net\n",
    "from utils.timer import Timer\n",
    "import torch.backends.cudnn as cudnn\n",
    "from layers.functions import Detect,PriorBox\n",
    "from data import BaseTransform\n",
    "from configs.CC import Config\n",
    "from tqdm import tqdm\n",
    "from utils.core import *"
   ]
  },
  {
   "cell_type": "code",
   "execution_count": 2,
   "metadata": {},
   "outputs": [
    {
     "name": "stdout",
     "output_type": "stream",
     "text": [
      "rm: cannot remove './data/Aidea/annotations_cache': No such file or directory\r\n"
     ]
    }
   ],
   "source": [
    "torch.cuda.set_device(1)\n",
    "!rm -r ./data/Aidea/annotations_cache"
   ]
  },
  {
   "cell_type": "code",
   "execution_count": 3,
   "metadata": {},
   "outputs": [
    {
     "name": "stdout",
     "output_type": "stream",
     "text": [
      "\u001b[1m\u001b[33m----------------------------------------------------------------------\n",
      "|                       M2Det Evaluation Program                     |\n",
      "----------------------------------------------------------------------\u001b[0m\n",
      "The Anchor info: \n",
      "{'feature_maps': [64, 32, 16, 8, 4, 2], 'min_dim': 512, 'steps': [8, 16, 32, 64, 107, 320], 'min_sizes': [40.96, 76.8, 168.96, 261.12, 353.28, 445.44], 'max_sizes': [76.8, 168.96, 261.12, 353.28, 445.44, 537.6], 'aspect_ratios': [[2, 3], [2, 3], [2, 3], [2, 3], [2, 3], [2, 3]], 'variance': [0.1, 0.2], 'clip': True}\n"
     ]
    }
   ],
   "source": [
    "args = easydict.EasyDict({\n",
    "    \"config\"       : \"configs/m2det512_resnet101.py\",\n",
    "    \"dataset\"      : \"VOC\",\n",
    "    \"trained_model\": \"./weights/Final_M2Det_VOC_size512_netresnet101.pth\",\n",
    "    \"test\"   : True\n",
    "})\n",
    "\n",
    "\n",
    "print_info('----------------------------------------------------------------------\\n'\n",
    "           '|                       M2Det Evaluation Program                     |\\n'\n",
    "           '----------------------------------------------------------------------', ['yellow','bold'])\n",
    "global cfg\n",
    "cfg = Config.fromfile(args.config)\n",
    "if not os.path.exists(cfg.test_cfg.save_folder):\n",
    "    os.mkdir(cfg.test_cfg.save_folder)\n",
    "anchor_config = anchors(cfg)\n",
    "print_info('The Anchor info: \\n{}'.format(anchor_config))\n",
    "priorbox = PriorBox(anchor_config)\n",
    "with torch.no_grad():\n",
    "    priors = priorbox.forward()\n",
    "    if cfg.test_cfg.cuda:\n",
    "        priors = priors.cuda()\n",
    "\n",
    "def test_net(save_folder, net, detector, cuda, testset, transform, max_per_image=300, thresh=0.005):\n",
    "    if not os.path.exists(save_folder):\n",
    "        os.mkdir(save_folder)\n",
    "\n",
    "    num_images = len(testset)\n",
    "    print_info('=> Total {} images to test.'.format(num_images),['yellow','bold'])\n",
    "    num_classes = cfg.model.m2det_config.num_classes\n",
    "    all_boxes = [[[] for _ in range(num_images)] for _ in range(num_classes)]\n",
    "\n",
    "    _t = {'im_detect': Timer(), 'misc': Timer()}\n",
    "    det_file = os.path.join(save_folder, 'detections.pkl')\n",
    "    tot_detect_time, tot_nms_time = 0, 0\n",
    "    print_info('Begin to evaluate',['yellow','bold'])\n",
    "    for i in tqdm(range(num_images)):\n",
    "        img = testset.pull_image(i)\n",
    "        # step1: CNN detection\n",
    "        _t['im_detect'].tic()\n",
    "        boxes, scores = image_forward(img, net, cuda, priors, detector, transform)\n",
    "        detect_time = _t['im_detect'].toc()\n",
    "        # step2: Post-process: NMS\n",
    "        _t['misc'].tic()\n",
    "        nms_process(num_classes, i, scores, boxes, cfg, thresh, all_boxes, max_per_image)\n",
    "        nms_time = _t['misc'].toc()\n",
    "\n",
    "        tot_detect_time += detect_time if i > 0 else 0\n",
    "        tot_nms_time += nms_time if i > 0 else 0\n",
    "\n",
    "    with open(det_file, 'wb') as f:\n",
    "        pickle.dump(all_boxes, f, pickle.HIGHEST_PROTOCOL)\n",
    "    print_info('===> Evaluating detections',['yellow','bold'])\n",
    "    testset.evaluate_detections2(all_boxes, save_folder)\n",
    "    print_info('Detect time per image: {:.3f}s'.format(tot_detect_time / (num_images-1)))\n",
    "    print_info('Nms time per image: {:.3f}s'.format(tot_nms_time / (num_images - 1)))\n",
    "    print_info('Total time per image: {:.3f}s'.format((tot_detect_time + tot_nms_time) / (num_images - 1)))\n",
    "    print_info('FPS: {:.3f} fps'.format((num_images - 1) / (tot_detect_time + tot_nms_time)))"
   ]
  },
  {
   "cell_type": "code",
   "execution_count": 4,
   "metadata": {},
   "outputs": [
    {
     "name": "stdout",
     "output_type": "stream",
     "text": [
      "\u001b[1m\u001b[33m===> Constructing M2Det model\u001b[0m\n",
      "Loading resume network...\n"
     ]
    },
    {
     "name": "stderr",
     "output_type": "stream",
     "text": [
      "\r",
      "  0%|          | 0/25 [00:00<?, ?it/s]"
     ]
    },
    {
     "name": "stdout",
     "output_type": "stream",
     "text": [
      "\u001b[1m\u001b[33m===> Finished constructing and loading model\u001b[0m\n",
      "\u001b[1m\u001b[33m=> Total 25 images to test.\u001b[0m\n",
      "\u001b[1m\u001b[33mBegin to evaluate\u001b[0m\n"
     ]
    },
    {
     "name": "stderr",
     "output_type": "stream",
     "text": [
      "100%|██████████| 25/25 [00:05<00:00,  8.00it/s]"
     ]
    },
    {
     "name": "stdout",
     "output_type": "stream",
     "text": [
      "\u001b[1m\u001b[33m===> Evaluating detections\u001b[0m\n",
      "Writing aquarium VOC results file\n",
      "Writing bottle VOC results file\n",
      "Writing bowl VOC results file\n",
      "Writing box VOC results file\n",
      "Writing bucket VOC results file\n",
      "Writing plastic_bag VOC results file\n",
      "Writing plate VOC results file\n",
      "Writing styrofoam VOC results file\n",
      "Writing tire VOC results file\n",
      "Writing toilet VOC results file\n",
      "Writing tub VOC results file\n",
      "Writing washing_machine VOC results file\n",
      "Writing water_tower VOC results file\n",
      "Detect time per image: 0.490s\n",
      "Nms time per image: 0.001s\n",
      "Total time per image: 0.491s\n",
      "FPS: 2.035 fps\n"
     ]
    },
    {
     "name": "stderr",
     "output_type": "stream",
     "text": [
      "\n"
     ]
    }
   ],
   "source": [
    "tStart = time.time()\n",
    "if __name__ == '__main__':\n",
    "    net = build_net('test',\n",
    "                    size = cfg.model.input_size,\n",
    "                    config = cfg.model.m2det_config)\n",
    "    init_net(net, cfg, args.trained_model)\n",
    "    print_info('===> Finished constructing and loading model',['yellow','bold'])\n",
    "    net.eval()\n",
    "    _set = 'eval_sets' if not args.test else 'test_sets'\n",
    "    testset = get_dataloader(cfg, args.dataset, _set)\n",
    "    if cfg.test_cfg.cuda:\n",
    "        net = net.cuda()\n",
    "        cudnn.benchmark = True\n",
    "    else:\n",
    "        net = net.cpu()\n",
    "    detector = Detect(cfg.model.m2det_config.num_classes, cfg.loss.bkg_label, anchor_config)\n",
    "    save_folder = os.path.join(cfg.test_cfg.save_folder, args.dataset)\n",
    "    _preprocess = BaseTransform(cfg.model.input_size, cfg.model.rgb_means, (2, 0, 1))\n",
    "    test_net(save_folder, \n",
    "             net, \n",
    "             detector, \n",
    "             cfg.test_cfg.cuda, \n",
    "             testset, \n",
    "             transform = _preprocess, \n",
    "             max_per_image = cfg.test_cfg.topk, \n",
    "             thresh = cfg.test_cfg.score_threshold)\n",
    "\n",
    "tEnd = time.time()"
   ]
  }
 ],
 "metadata": {
  "kernelspec": {
   "display_name": "Python 3",
   "language": "python",
   "name": "python3"
  },
  "language_info": {
   "codemirror_mode": {
    "name": "ipython",
    "version": 3
   },
   "file_extension": ".py",
   "mimetype": "text/x-python",
   "name": "python",
   "nbconvert_exporter": "python",
   "pygments_lexer": "ipython3",
   "version": "3.6.7"
  }
 },
 "nbformat": 4,
 "nbformat_minor": 2
}
