{
 "cells": [
  {
   "cell_type": "code",
   "execution_count": 2,
   "metadata": {},
   "outputs": [],
   "source": [
    "import os, pdb\n",
    "import numpy as np\n",
    "import xmltodict\n",
    "import xml.etree.ElementTree as ET\n",
    "\n",
    "# prefix='/data/VOCdevkit/VOC2007/Annotations/'\n",
    "prefix='data/train_cdc/train_annotations/'\n",
    "\n",
    "dirx = os.listdir(prefix)\n",
    "train_len = len(dirx)\n",
    "\n",
    "for i in range(train_len):\n",
    "    tree = ET.ElementTree(file=prefix+dirx[i])\n",
    "    len2 = len(tree._root)\n",
    "    \n",
    "    j=0\n",
    "    while(True):\n",
    "        if tree._root[j].find('name') is not None:\n",
    "\n",
    "            xmin= int(tree._root[j].find('bndbox').findtext('xmin'))\n",
    "            ymin= int(tree._root[j].find('bndbox').findtext('ymin'))\n",
    "            xmax= int(tree._root[j].find('bndbox').findtext('xmax'))\n",
    "            ymax= int(tree._root[j].find('bndbox').findtext('ymax'))\n",
    "\n",
    "            hh = ymax-ymin\n",
    "            ww = xmax-xmin\n",
    "            size1 = hh*ww\n",
    "            if size1>8192:\n",
    "                del tree._root[j]\n",
    "            else:\n",
    "                j+=1\n",
    "            if j>=len(tree._root):\n",
    "                break\n",
    "        else:\n",
    "            j+=1\n",
    "            if j>=len(tree._root):\n",
    "                break\n",
    "    \n",
    "    tree.write(prefix+dirx[i])"
   ]
  },
  {
   "cell_type": "code",
   "execution_count": null,
   "metadata": {},
   "outputs": [],
   "source": []
  }
 ],
 "metadata": {
  "kernelspec": {
   "display_name": "Python 3",
   "language": "python",
   "name": "python3"
  },
  "language_info": {
   "codemirror_mode": {
    "name": "ipython",
    "version": 3
   },
   "file_extension": ".py",
   "mimetype": "text/x-python",
   "name": "python",
   "nbconvert_exporter": "python",
   "pygments_lexer": "ipython3",
   "version": "3.6.7"
  }
 },
 "nbformat": 4,
 "nbformat_minor": 2
}
